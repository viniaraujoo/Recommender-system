{
 "cells": [
  {
   "cell_type": "code",
   "execution_count": 6,
   "metadata": {},
   "outputs": [],
   "source": [
    "import pandas as pd\n",
    "import os\n",
    "from surprise import Dataset, KNNBasic, Reader, accuracy, SVD\n",
    "from surprise.model_selection import cross_validate, PredefinedKFold"
   ]
  },
  {
   "cell_type": "markdown",
   "metadata": {},
   "source": [
    "## Descrição do Problema. \n",
    "Este projeto tem como principal objetivo desenvolver um sistema de apoio a recomendação. Para está analise iremos utilizar a base de dados [MovieLens](https://grouplens.org/datasets/movielens/) que consiste numa base de dados onde os dados foram coletados através do site da MovieLens (movielens.umn.edu) durante o período de sete meses a partir de 19 de setembro, 1997 até 22 de abril de 1998. Esses dados foram limpos - usuários que tinha menos de 20 classificações ou não tinha demografia completa informações foram removidas deste conjunto de dados. Descrições detalhadas dê o arquivo de dados pode ser encontrado no final deste arquivo.\n",
    "Á partir desses dados foi desenvolvido um sistema de recomendação baseado em dois algoritimos que explicamos abaixo."
   ]
  },
  {
   "cell_type": "markdown",
   "metadata": {},
   "source": [
    "## Leitura do Conjunto de Dados\n",
    "Abaixo o algoritimo é reponsavel pela leitura de um conjunto especifico da base de dados [ml-100k](https://grouplens.org/datasets/movielens/), onde iremos utilizar o conjunto especifico de teste e a base de intems, considerando os 1000 usuario presentes. "
   ]
  },
  {
   "cell_type": "code",
   "execution_count": 7,
   "metadata": {},
   "outputs": [],
   "source": [
    "items_stream = open('../ml-100k/u.item', 'r')\n",
    "item_data = items_stream.read().split('\\n')\n",
    "item_data = list(map(lambda item: item.split('|')[:2], item_data))\n",
    "items_stream.close()"
   ]
  },
  {
   "cell_type": "code",
   "execution_count": 8,
   "metadata": {},
   "outputs": [],
   "source": [
    "database = pd.read_csv('../ml-100k/u1.base.csv')\n",
    "user_set = set(database.user_id)\n",
    "item_set = set(database.item_id)\n",
    "not_watch = {user: item_set.difference(database.query('user_id == %s' %(user)).item_id) for user in user_set}"
   ]
  },
  {
   "cell_type": "code",
   "execution_count": 9,
   "metadata": {},
   "outputs": [],
   "source": [
    "files_dir = os.path.expanduser('../ml-100k/')\n",
    "reader = Reader('ml-100k')"
   ]
  },
  {
   "cell_type": "markdown",
   "metadata": {},
   "source": [
    "## Leitura do Conjunto de Teste\n",
    "Consideramos para a o conjunto de teste a base 1 contida no conjunto dos dados."
   ]
  },
  {
   "cell_type": "code",
   "execution_count": 10,
   "metadata": {},
   "outputs": [],
   "source": [
    "train_file = files_dir + 'u%d.base'\n",
    "test_file = files_dir + 'u%d.test'\n",
    "folds_files = [(train_file % i, test_file % i) for i in [1]]\n",
    "\n",
    "data = Dataset.load_from_folds(folds_files, reader=reader)\n",
    "pkf = PredefinedKFold()"
   ]
  },
  {
   "cell_type": "markdown",
   "metadata": {},
   "source": [
    "## Algoritmos utilizados \n",
    "Para está analise utilizamos dois algoritimos diferente para observar o resultados, ambos os algoritimos estão presentes na biblioteca surprise. São eles:\n",
    "+ KNN\n",
    "+ SVD"
   ]
  },
  {
   "cell_type": "markdown",
   "metadata": {},
   "source": [
    "### KNN\n",
    "+ A ideia principal do KNN é determinar o rótulo de classificação de uma amostra baseado nas amostras vizinhas advindas de um conjunto de treinamento.\n",
    "+ Passos:\n",
    "    + 1-Escolha um vértice arbitrário como vértice atual.\n",
    "    + 2-Descubra a aresta de menor peso que seja conectada ao vértice atual e a um vértice não visitado V.\n",
    "    + 3-Faça o vértice atual ser V.\n",
    "    + 4-Marque V como visitado.\n",
    "    + 5-Se todos os vértices no domínio estiverem visitados, encerre o algoritmo.\n",
    "    + 6-Se não vá para o passo 2.\n",
    "+ Mais detalhe sobre a formulação e como funciona o algoritimo pela biblioteca [aqui](http://surprise.readthedocs.io/en/stable/knn_inspired.html#surprise.prediction_algorithms.knns.KNNBasic)."
   ]
  },
  {
   "cell_type": "markdown",
   "metadata": {},
   "source": [
    "### SVD\n",
    "O famoso algoritmo SVD , popularizado por Simon Funk durante o Prêmio Netflix. Quando as linhas de base não são usadas, isso é equivalente à fatoração de matrizes probabilísticas.\n",
    "Mais detalhe sobre a formulação e como funciona o algoritimo pela biblioteca [aqui](http://surprise.readthedocs.io/en/stable/matrix_factorization.html#matrix-factorization-based-algorithms)."
   ]
  },
  {
   "cell_type": "code",
   "execution_count": 11,
   "metadata": {},
   "outputs": [
    {
     "name": "stdout",
     "output_type": "stream",
     "text": [
      "Computing the cosine similarity matrix...\n",
      "Done computing similarity matrix.\n",
      "RMSE: 1.1118\n",
      "RMSE: 0.9507\n"
     ]
    }
   ],
   "source": [
    "sim_options = {\n",
    "    'name': 'cosine',\n",
    "    'user_based': True  # compute  similarities between items\n",
    "}\n",
    "\n",
    "algo = KNNBasic(sim_options=sim_options, k=4, min_k=2)\n",
    "algo_svd = SVD()\n",
    "for trainset, testset in pkf.split(data):\n",
    "\n",
    "    # train and test algorithm.\n",
    "    algo_svd.fit(trainset)\n",
    "    algo.fit(trainset)\n",
    "    predictions = algo.test(testset)\n",
    "    predictions_svd = algo_svd.test(testset)\n",
    "    accuracy.rmse(predictions,verbose=True)\n",
    "    accuracy.rmse(predictions_svd,verbose=True)\n",
    "    "
   ]
  },
  {
   "cell_type": "markdown",
   "metadata": {},
   "source": [
    "## Métodos utilizados.\n",
    "Abaixo estão os metodos que retornar o top 5 dos filmes de acordo com o SVD ou KNN e também o metodo que retornar o top 5 de usuarios de acordo com o KNN que possui perfil similar com o perfil selecionado na pesquisa. "
   ]
  },
  {
   "cell_type": "code",
   "execution_count": 12,
   "metadata": {},
   "outputs": [],
   "source": [
    "def get_top_5(uid):\n",
    "    top = []\n",
    "    items = not_watch[int(uid)]\n",
    "    \n",
    "    for item in items:\n",
    "        top.append((item, algo.predict(uid=uid, iid=str(item)).est))\n",
    "    \n",
    "    return sorted(top, key=lambda item: item[1], reverse=True)[:5]\n",
    "\n",
    "\n",
    "def get_top_5_movies_KNN(uid):\n",
    "    top_5 = get_top_5(uid)\n",
    "    return [item_data[int(item[0])][1] for item in top_5]"
   ]
  },
  {
   "cell_type": "code",
   "execution_count": 13,
   "metadata": {},
   "outputs": [],
   "source": [
    "def get_top2_5(uid):\n",
    "    top = []\n",
    "    items = not_watch[int(uid)]\n",
    "    \n",
    "    for item in items:\n",
    "        top.append((item, algo_svd.predict(uid=uid, iid=str(item)).est))\n",
    "    \n",
    "    return sorted(top, key=lambda item: item[1], reverse=True)[:5]\n",
    "\n",
    "def get_top_5_movies_SVD(uid):\n",
    "    top_5 = get_top2_5(uid)\n",
    "    return [item_data[int(item[0])][1] for item in top_5]"
   ]
  },
  {
   "cell_type": "code",
   "execution_count": 14,
   "metadata": {},
   "outputs": [],
   "source": [
    "def get_top_5_neighbors(uid):\n",
    "    inner_uid = algo.trainset.to_inner_uid(uid)\n",
    "    neighbords = algo.get_neighbors(iid=inner_uid, k=5)\n",
    "    return [algo.trainset.to_raw_uid(iid) for iid in neighbords]"
   ]
  },
  {
   "cell_type": "code",
   "execution_count": null,
   "metadata": {},
   "outputs": [],
   "source": [
    "def get_top_5_cosine(uid):\n",
    "    x = algo.compute_similarities()\n",
    "    y = get_top_5_neighbors(uid)\n",
    "    result = list()\n",
    "    for i in range(5):\n",
    "        result.append(x[int(uid)][int(y[i])])\n",
    "    return result"
   ]
  },
  {
   "cell_type": "markdown",
   "metadata": {},
   "source": [
    "## Exemplo da aplicação. Usuario id: 11. "
   ]
  },
  {
   "cell_type": "markdown",
   "metadata": {},
   "source": [
    "| Recomendações KNN | Recomendações SVD | Usuarios Proximos | Coseno |\n",
    "| ------------- |:-------------:| :-----:| -----:| \n",
    "| Angels and Insects (1995) | Mighty Aphrodite (1995) | 9 |  0.98|\n",
    "| Mother (1996)      | Maltese Falcon, The (1941) |   34 |  1|\n",
    "| That Old Feeling (1997) | Ulee's Gold (1997)  |    86 |  0.99|\n",
    "| Ayn Rand: A Sense of Life (1997) | Legends of the Fall (1994) |    88 |   0.99|\n",
    "| Cure, The (1995) | Brazil (1985) |    93 | 0.09"
   ]
  },
  {
   "cell_type": "markdown",
   "metadata": {},
   "source": [
    "### Analise de Precisão dos algoritimos. \n",
    "| Algorimo | RMSE | \n",
    "| ------------- |:-------------:|\n",
    "| KNN | 1.1118 |\n",
    "| SVD| 0.9513 |"
   ]
  },
  {
   "cell_type": "markdown",
   "metadata": {},
   "source": [
    "### Aplicação.\n",
    "A aplicação encontrasse na rede com uma irteface onde pode se trabalhar com todos o usuário da base de dados assim o usuário só precisa escolher algum id e observar os resultados tanto do KNN quanto do SVD. Para mais detalhe acesse o site da aplicação [aqui.](https://sad-cloud.appspot.com/)"
   ]
  }
 ],
 "metadata": {
  "kernelspec": {
   "display_name": "Python 3",
   "language": "python",
   "name": "python3"
  },
  "language_info": {
   "codemirror_mode": {
    "name": "ipython",
    "version": 3
   },
   "file_extension": ".py",
   "mimetype": "text/x-python",
   "name": "python",
   "nbconvert_exporter": "python",
   "pygments_lexer": "ipython3",
   "version": "3.6.4"
  }
 },
 "nbformat": 4,
 "nbformat_minor": 2
}
